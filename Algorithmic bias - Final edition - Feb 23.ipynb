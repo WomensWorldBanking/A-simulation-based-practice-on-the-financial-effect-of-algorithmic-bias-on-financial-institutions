{
 "cells": [
  {
   "cell_type": "code",
   "execution_count": 25,
   "metadata": {},
   "outputs": [
    {
     "name": "stderr",
     "output_type": "stream",
     "text": [
      "C:\\Users\\mm\\AppData\\Local\\Continuum\\anaconda3\\lib\\site-packages\\statsmodels\\tools\\_testing.py:19: FutureWarning: pandas.util.testing is deprecated. Use the functions in the public API at pandas.testing instead.\n",
      "  import pandas.util.testing as tm\n"
     ]
    }
   ],
   "source": [
    "# importing libraries\n",
    "import os\n",
    "import sys\n",
    "\n",
    "import numpy as np\n",
    "import pandas as pd\n",
    "from scipy import stats  \n",
    "\n",
    "import matplotlib.pylab as plt\n",
    "import matplotlib.mlab as mlab\n",
    "%matplotlib inline\n",
    "import seaborn as sns\n",
    "from pylab import rcParams\n",
    "from IPython.display import Markdown, display\n",
    "\n",
    "from sklearn.datasets import make_classification\n",
    "from sklearn import metrics\n",
    "from sklearn.metrics import accuracy_score, confusion_matrix, recall_score, roc_auc_score, precision_score\n",
    "from sklearn.metrics import confusion_matrix\n",
    "\n",
    "from sklearn import preprocessing\n",
    "from sklearn.model_selection import train_test_split\n",
    "from sklearn.preprocessing import StandardScaler \n",
    "from sklearn.metrics import classification_report \n",
    "\n",
    "from sklearn.linear_model import LogisticRegression\n",
    "\n",
    "import itertools    "
   ]
  },
  {
   "cell_type": "code",
   "execution_count": 26,
   "metadata": {},
   "outputs": [],
   "source": [
    "################################# Attention\n",
    "################## Attention\n",
    "##### Attention\n",
    "\n",
    "# @ dear web designer/programmer:\n",
    "# This is step # 1 \n",
    "# The followings are explanations and descriptions that come as first things that user sees"
   ]
  },
  {
   "cell_type": "markdown",
   "metadata": {},
   "source": [
    "# How to detect and mitigate gender biases in credit score models?\n",
    "\n",
    "### Introduction\n",
    "##### This interactive tool is designed for financial services providers (FSPs) who aim to detect and mitigate gender biases in their credit score models. This tool can be used to demonstrate unfair decisions against a certain gender due to gender biases in data used for credit scoring and imbalanced  proportion of female and male loan applicants within credit portfolios. \n",
    "\n",
    "### Questions addressed by our interactive tool\n",
    "##### •\tDo we have gender biases in the outputs (decisions) of our credit score model?\n",
    "##### •\tIf gender biases are present in the outputs, how severe are they?\n",
    "##### •\tAnd in those situations, how can we mitigate them? \n",
    "\n",
    "### What do we mean by bias and fairness in a credit score model? What fairness notions are we going to study?\n",
    "##### Bias can refer to any form of preference. In this interactive tool, our focus is on unfair gender bias or gender discrimination. Gender-based  algorithmic bias happens when an algorithm’s outputs are systemically prejudiced against a group of people, with gender explaining the bias.\n",
    "##### Although we have not included gender in our credit score model and our model is gender blind, data that we feed to our algorithm intentionally inherits gender biases that can affect the final decision against one certain gender. \n",
    "##### Therefore, we show that discarding gender as a protected attribute from the model does not guarantee fair outcomes. In addition, we provide our users the opportunity of creating a credit portfolio that is not balanced in its proportion of male and female loan  applicants to study how this can lead to unfair decisions. \n",
    "##### Fairness in algorithmic fairness does not have a unique definition. There are more than twenty definitions on fairness and mathematically we can prove that it is impossible to satisfy all these definitions simultaneously. Therefore, each FSP needs to choose those fairness definitions that are most important to them and try to work on satisfying them.      \n",
    "##### In designing this tool, our purpose was to provide a practical example on algorithmic bias without having to cover the long list of fairness  notions. Therefore, we focus on a subset of only three of these fairness notions. These three are predictive parity, predictive equality and equal opportunity. \n",
    "##### •\tPredictive parity is satisfied if male and female applicants with good credit score have the same chance of good predicted credit score. Predictive parity is the equivalent of positive predicted value (PPV). Therefore, the higher it is, the better this fairness notion is.\n",
    "##### •\tPredictive equality is satisfied if male and female loan applicants with actual bad credit scores should have equal chance of being incorrectly assigned a  good predicted credit score. Predictive equality is the equivalent of false positive error rate (FPR). Therefore, the lower it is, the better this fairness notion is.\n",
    "##### •\tEqual opportunity is satisfied if male and female loan applicants with good credit scores have the same chance of being incorrectly assigned a  bad predicted credit score. Equal opportunity is the equivalent of false negative error rate (FNR). Therefore, the lower it is, the better this fairness notion is. \n",
    "\n",
    "### How our credit score model makes a decision?\n",
    "##### Our credit score is developed based on a logistic regression model. This model takes an initial input from a loan applicant and based on the  input data predicts a credit score that can take any value between 0 and 1. Let’s assume that this model predicts an applicant’s score to be 0.67.  Should the FSP gives loan to this applicant? There is not a straightforward binary answer to this question. The answer depends on the level  of risk that an FSP is willing to tolerate. A bank might be highly risk averse and puts its acceptance threshold on 0.9. Therefore, only applicants whose predicted credit score go above 0.9 would be eligible for a loan and other applicants, such as our applicant with 0.67 score,  are not considered creditworthy. However, other FSPs that are willing to take more risk put the decision threshold at lower levels, for example 0.55. In such cases, the applicant with 0.67 credit score would become eligible. In real world scenarios, the process is more complicated than the scenario explained above. In practice, applicant’s credit score, affects credit decision, interest rate and credit amount. However, for the sake of simplicity, we assume that credit applicants can only experience two scenarios; approval/rejection and all of those who are perceived creditworthy, regardless of their score and risk, would receive the same amount of loan under the same interest rate.\n",
    "\n",
    "### What is threshold discrimination?\n",
    "##### So far, we explained what threshold refers to in credit score model and how moving the threshold up or down would affect the risk that an  FSP tolerates. Here, we want to point out to one more fact about thresholds and that fact directly links us to gender fairness. \n",
    "##### Moving threshold up or down, can lead to unfair decisions for one specific gender. From an algorithmic fairness standpoint, thresholds that lead to  unfair outcomes are called threshold discrimination. Therefore, where we set the threshold affects both risk and fairness. \n",
    "##### What is the source of data on our loan applicants? Why do we chose this specific source of data?\n",
    "##### Based on the information we collect from a user through our tool chat option, using Python synthetic data, we create a dataset. This dataset  is the basis of our credit portfolio and the main input of our credit score model. Making this tool interactive and giving our users the opportunity to make their own credit portfolio, is one of the main strengths of this work.  Users can create a wide variety of scenarios and assess the effect of each scenario on fairness. What if 80% of credit portfolio are male   applicants? What happens if 95% of applicants are male? What about a case that 50% of applicants are male? What happens if historically more female has gotten rejection? What is the effect of each aforementioned scenario on profit? Do we have gender fairness in each scenario? These are some examples on scenarios that users can explore. \n",
    "\n",
    "### Bias injection:\n",
    "##### In real world scenarios, usually there are some sort of inherent gender biases within datasets. For example, a male or female loan applicant  who was truly creditworthy might be perceived dissolvent due to conscious/unconscious gender prejudices of a loan officer. These types of biases are common and exists in historical datasets and in most cases the biases are against female applicants. To resemble our input data as close as possible to real world scenarios, we injected gender biases against female applicants. We do not go into all the details of how we injected bias into our dataset, but those who are interested can learn and find a detailed information on bias injection using our GitHub page. \n",
    "\n",
    "##### Thank you. \n",
    "##### Have questions? Lots of people do!\n",
    "##### Feel free to reach out to Mehrdad Mirpourian by sending an email to mm@womensworldbanking.org\n",
    "\n"
   ]
  },
  {
   "cell_type": "code",
   "execution_count": null,
   "metadata": {},
   "outputs": [],
   "source": [
    "################################# Attention\n",
    "################## Attention\n",
    "##### Attention\n",
    "\n",
    "# @ dear web designer/programmer:\n",
    "# This is step # 2 \n",
    "# The followings are questions that we ask a user to answer and are the only place in our whole code that we ask for inputs from user. "
   ]
  },
  {
   "cell_type": "code",
   "execution_count": 189,
   "metadata": {},
   "outputs": [
    {
     "name": "stdout",
     "output_type": "stream",
     "text": [
      "# 1. To start, can you tell us how many customers do you want to have in your simulated credit portfolio?1700\n",
      "# 2. What percent of your credit portfolio is male customers? Enter a number between 0 and 1, i.e: 0.9 for 90%.0.69\n",
      "That is great. There are  1173  male and  527  female applicants in your simulated credit portfolio.\n",
      "*************\n",
      "Before asking next questions, we need to define some terms for users of this tool.\n",
      "Let’s split your disbursed loans into bad loans and good loans.\n",
      "    A bad loan is a loan that the borrower does not pay back.\n",
      "Your loss in this case is the principal plus the interest you might have gotten from another customer.\n",
      "    A good loan is a loan that the borrower pays back in full. Your profit is the interest.\n",
      "*************\n",
      "Now, we can continue asking our questions.\n",
      "# 3. On average, what percent of your male loan applicants are offered credit? Enter a number between 0 and 1.0.7\n",
      "# 4. On average, what percent of your female loan applicants are offered credit? Enter a number between 0 and 1.0.6\n",
      "# 5. On average, what is your best guess for how much you earn by giving a good loan?350\n",
      "# 6. On average, what is your best guess for how much you lose by giving a bad loan? 550\n",
      "\n"
     ]
    }
   ],
   "source": [
    "np.random.seed(2)\n",
    "\n",
    "def Total_Population_Func():\n",
    "    while True:\n",
    "        Total_Population = input('# 1. To start, can you tell us how many customers do you want to have in your simulated credit portfolio?')\n",
    "        try:         \n",
    "            val = int(Total_Population)\n",
    "            if (val >= 500):\n",
    "                return val\n",
    "                break\n",
    "            elif(val < 500)   :\n",
    "                print('')\n",
    "                print(\"Error. You need to have at least 500 applicants, please try again\")     \n",
    "        except ValueError:\n",
    "            print(\"Characters are not accepted, please enter a number\")\n",
    "Total_Population = Total_Population_Func()\n",
    "###########################################################################\n",
    "def Male_Perc_Func():\n",
    "    while True:\n",
    "        Male_Perc = input('# 2. What percent of your credit portfolio is male customers? Enter a number between 0 and 1, i.e: 0.9 for 90%.')\n",
    "        try:         \n",
    "            val = float(Male_Perc)\n",
    "            if (val >= 0 and val <= 1):\n",
    "                return val\n",
    "                break\n",
    "            elif(val < 0 or val > 1)   :\n",
    "                print('')\n",
    "                print(\"Error. The value cannot be larger than 1 or smaller than 0. please try again\")     \n",
    "        except ValueError:\n",
    "            print(\"Error. Characters are not accepted, please enter a number\")\n",
    "Male_Perc = Male_Perc_Func()\n",
    "\n",
    "Male_Population = int(Total_Population * Male_Perc)\n",
    "Female_Population = Total_Population - Male_Population\n",
    "print('That is great. There are ', Male_Population, ' male and ', Female_Population, ' female applicants in your simulated credit portfolio.')\n",
    "\n",
    "print('*************')\n",
    "print('Before asking next questions, we need to define some terms for users of this tool.')\n",
    "print('Let’s split your disbursed loans into bad loans and good loans.')      \n",
    "print('    A bad loan is a loan that the borrower does not pay back.') \n",
    "print('Your loss in this case is the principal plus the interest you might have gotten from another customer.')\n",
    "print('    A good loan is a loan that the borrower pays back in full. Your profit is the interest.')\n",
    "print('*************')\n",
    "\n",
    "print('Now, we can continue asking our questions.')\n",
    "###########################################################################\n",
    "def Perc_Approval_M_Func():\n",
    "    while True:\n",
    "        Perc_Approval_M = input('# 3. On average, what percent of your male loan applicants are offered credit? Enter a number between 0 and 1.')\n",
    "        try:         \n",
    "            val = float(Perc_Approval_M)\n",
    "            if (val >= 0 and val <= 1):\n",
    "                return val\n",
    "                break\n",
    "            elif(val < 0 or val > 1)   :\n",
    "                print('')\n",
    "                print(\"Error. The value cannot be larger than 1 or smaller than 0. please try again\")     \n",
    "        except ValueError:\n",
    "            print('')\n",
    "            print(\"Error. Characters are not accepted, please enter a number\")\n",
    "Perc_Approval_M = Perc_Approval_M_Func()\n",
    "###########################################################################\n",
    "def Perc_Approval_F_Func():\n",
    "    while True:\n",
    "        Perc_Approval_F = input('# 4. On average, what percent of your female loan applicants are offered credit? Enter a number between 0 and 1.')\n",
    "        try:         \n",
    "            val = float(Perc_Approval_F)\n",
    "            if (val >= 0 and val <= 1):\n",
    "                return val\n",
    "                break\n",
    "            elif(val < 0 or val > 1)   :\n",
    "                print('')\n",
    "                print(\"Error. The value cannot be larger than 1 or smaller than 0. please try again\")     \n",
    "        except ValueError:\n",
    "            print('')\n",
    "            print(\"Error. Characters are not accepted, please enter a number\")\n",
    "Perc_Approval_F = Perc_Approval_F_Func()\n",
    "###########################################################################\n",
    "Perc_Rejected_M = 1 - Perc_Approval_M\n",
    "Perc_Rejected_F = 1 - Perc_Approval_F\n",
    "###########################################################################\n",
    "def Profit_Func():\n",
    "    while True:\n",
    "        Profit = input('# 5. On average, what is your best guess for how much you earn by giving a good loan?')\n",
    "        try:         \n",
    "            val = float(Profit)\n",
    "            if (val > 0):\n",
    "                return val\n",
    "                break\n",
    "            elif(val < 0 ):\n",
    "                print('')\n",
    "                print(\"Error. Profit cannot be negative. please try again\")     \n",
    "        except ValueError:\n",
    "            print('')\n",
    "            print(\"Error. Characters are not accepted, please enter a number\")\n",
    "Profit = Profit_Func()\n",
    "###########################################################################\n",
    "def Bad_loan_loss_Func():\n",
    "    while True:\n",
    "        Bad_loan_loss = input('# 6. On average, what is your best guess for how much you lose by giving a bad loan? ')\n",
    "        try:         \n",
    "            val = float(Bad_loan_loss)\n",
    "            if (val > 0 and val > Profit):\n",
    "                return val\n",
    "                break\n",
    "            elif(val < 0 ):\n",
    "                print('')\n",
    "                print(\"Error. Please try again and insert a positive number.\")\n",
    "            elif(val < Profit):\n",
    "                print('')\n",
    "                print(\"Error. Loss should be larger than profit. Please try again!\")\n",
    "        except ValueError:\n",
    "            print('')\n",
    "            print(\"Error. Characters are not accepted, please enter a number\")\n",
    "Bad_loan_loss = Bad_loan_loss_Func()\n",
    "print('')"
   ]
  },
  {
   "cell_type": "code",
   "execution_count": 35,
   "metadata": {},
   "outputs": [],
   "source": [
    "################################# Attention\n",
    "################## Attention\n",
    "##### Attention\n",
    "\n",
    "# @ dear web designer/programmer:\n",
    "# This is step # 3 \n",
    "# The following is the first visulization that user sees.\n",
    "# The user sees the following Markdown and then the visulization."
   ]
  },
  {
   "cell_type": "markdown",
   "metadata": {},
   "source": [
    "### Your credit portfolio in a glance."
   ]
  },
  {
   "cell_type": "code",
   "execution_count": 190,
   "metadata": {
    "scrolled": false
   },
   "outputs": [
    {
     "data": {
      "image/png": "[encoded data removed]",
      "text/plain": [
       "<Figure size 1008x1008 with 2 Axes>"
      ]
     },
     "metadata": {},
     "output_type": "display_data"
    }
   ],
   "source": [
    "fig, (ax1,ax2) = plt.subplots(1, 2, figsize = (14, 14))\n",
    "\n",
    "labels_1 = 'Male Population', 'Female Population'\n",
    "labels_2 = 'Male Approved', 'Male Rejected', 'Female Approved', 'Female Rejected'\n",
    "sizes_1 = [Male_Population, Female_Population]\n",
    "sizes_2 = [(Male_Population * Perc_Approval_M), (Male_Population * float(1 - Perc_Approval_M)),\n",
    "           (Female_Population * Perc_Approval_F), (Female_Population * float(1 - Perc_Approval_F))]\n",
    "                                                 \n",
    "explode_1 = (0, 0.1)  # only \"explode\" the second \n",
    "explode_2 = (0, 0.05, 0.0, 0.5)  # only \"explode\" the second \n",
    "colors_1 = ['lightgrey', 'olive']\n",
    "colors_2 = ['grey', 'darkgrey', 'orange', 'tan']\n",
    "\n",
    "ax1.pie(sizes_1, explode = explode_1, labels = labels_1, colors = colors_1, autopct = '%1.1f%%', textprops={'fontsize': 11, 'color' : \"midnightblue\"}, shadow = True, startangle = 75)\n",
    "ax2.pie(sizes_2, explode = explode_2, labels = labels_2, colors = colors_2, autopct = '%1.1f%%', textprops={'fontsize': 11, 'color' : \"midnightblue\"}, shadow = True, startangle = 35)\n",
    "plt.tight_layout()\n",
    "plt.show()"
   ]
  },
  {
   "cell_type": "code",
   "execution_count": 191,
   "metadata": {},
   "outputs": [
    {
     "name": "stderr",
     "output_type": "stream",
     "text": [
      "C:\\Users\\mm\\AppData\\Local\\Continuum\\anaconda3\\lib\\site-packages\\ipykernel_launcher.py:122: SettingWithCopyWarning: \n",
      "A value is trying to be set on a copy of a slice from a DataFrame.\n",
      "Try using .loc[row_indexer,col_indexer] = value instead\n",
      "\n",
      "See the caveats in the documentation: https://pandas.pydata.org/pandas-docs/stable/user_guide/indexing.html#returning-a-view-versus-a-copy\n",
      "C:\\Users\\mm\\AppData\\Local\\Continuum\\anaconda3\\lib\\site-packages\\ipykernel_launcher.py:124: SettingWithCopyWarning: \n",
      "A value is trying to be set on a copy of a slice from a DataFrame.\n",
      "Try using .loc[row_indexer,col_indexer] = value instead\n",
      "\n",
      "See the caveats in the documentation: https://pandas.pydata.org/pandas-docs/stable/user_guide/indexing.html#returning-a-view-versus-a-copy\n",
      "C:\\Users\\mm\\AppData\\Local\\Continuum\\anaconda3\\lib\\site-packages\\ipykernel_launcher.py:125: SettingWithCopyWarning: \n",
      "A value is trying to be set on a copy of a slice from a DataFrame.\n",
      "Try using .loc[row_indexer,col_indexer] = value instead\n",
      "\n",
      "See the caveats in the documentation: https://pandas.pydata.org/pandas-docs/stable/user_guide/indexing.html#returning-a-view-versus-a-copy\n",
      "C:\\Users\\mm\\AppData\\Local\\Continuum\\anaconda3\\lib\\site-packages\\ipykernel_launcher.py:126: SettingWithCopyWarning: \n",
      "A value is trying to be set on a copy of a slice from a DataFrame.\n",
      "Try using .loc[row_indexer,col_indexer] = value instead\n",
      "\n",
      "See the caveats in the documentation: https://pandas.pydata.org/pandas-docs/stable/user_guide/indexing.html#returning-a-view-versus-a-copy\n",
      "C:\\Users\\mm\\AppData\\Local\\Continuum\\anaconda3\\lib\\site-packages\\ipykernel_launcher.py:127: SettingWithCopyWarning: \n",
      "A value is trying to be set on a copy of a slice from a DataFrame.\n",
      "Try using .loc[row_indexer,col_indexer] = value instead\n",
      "\n",
      "See the caveats in the documentation: https://pandas.pydata.org/pandas-docs/stable/user_guide/indexing.html#returning-a-view-versus-a-copy\n",
      "C:\\Users\\mm\\AppData\\Local\\Continuum\\anaconda3\\lib\\site-packages\\ipykernel_launcher.py:129: SettingWithCopyWarning: \n",
      "A value is trying to be set on a copy of a slice from a DataFrame.\n",
      "Try using .loc[row_indexer,col_indexer] = value instead\n",
      "\n",
      "See the caveats in the documentation: https://pandas.pydata.org/pandas-docs/stable/user_guide/indexing.html#returning-a-view-versus-a-copy\n",
      "C:\\Users\\mm\\AppData\\Local\\Continuum\\anaconda3\\lib\\site-packages\\ipykernel_launcher.py:130: SettingWithCopyWarning: \n",
      "A value is trying to be set on a copy of a slice from a DataFrame.\n",
      "Try using .loc[row_indexer,col_indexer] = value instead\n",
      "\n",
      "See the caveats in the documentation: https://pandas.pydata.org/pandas-docs/stable/user_guide/indexing.html#returning-a-view-versus-a-copy\n",
      "C:\\Users\\mm\\AppData\\Local\\Continuum\\anaconda3\\lib\\site-packages\\ipykernel_launcher.py:131: SettingWithCopyWarning: \n",
      "A value is trying to be set on a copy of a slice from a DataFrame.\n",
      "Try using .loc[row_indexer,col_indexer] = value instead\n",
      "\n",
      "See the caveats in the documentation: https://pandas.pydata.org/pandas-docs/stable/user_guide/indexing.html#returning-a-view-versus-a-copy\n",
      "C:\\Users\\mm\\AppData\\Local\\Continuum\\anaconda3\\lib\\site-packages\\ipykernel_launcher.py:133: SettingWithCopyWarning: \n",
      "A value is trying to be set on a copy of a slice from a DataFrame.\n",
      "Try using .loc[row_indexer,col_indexer] = value instead\n",
      "\n",
      "See the caveats in the documentation: https://pandas.pydata.org/pandas-docs/stable/user_guide/indexing.html#returning-a-view-versus-a-copy\n",
      "C:\\Users\\mm\\AppData\\Local\\Continuum\\anaconda3\\lib\\site-packages\\ipykernel_launcher.py:134: SettingWithCopyWarning: \n",
      "A value is trying to be set on a copy of a slice from a DataFrame.\n",
      "Try using .loc[row_indexer,col_indexer] = value instead\n",
      "\n",
      "See the caveats in the documentation: https://pandas.pydata.org/pandas-docs/stable/user_guide/indexing.html#returning-a-view-versus-a-copy\n",
      "C:\\Users\\mm\\AppData\\Local\\Continuum\\anaconda3\\lib\\site-packages\\ipykernel_launcher.py:135: SettingWithCopyWarning: \n",
      "A value is trying to be set on a copy of a slice from a DataFrame.\n",
      "Try using .loc[row_indexer,col_indexer] = value instead\n",
      "\n",
      "See the caveats in the documentation: https://pandas.pydata.org/pandas-docs/stable/user_guide/indexing.html#returning-a-view-versus-a-copy\n",
      "C:\\Users\\mm\\AppData\\Local\\Continuum\\anaconda3\\lib\\site-packages\\ipykernel_launcher.py:136: SettingWithCopyWarning: \n",
      "A value is trying to be set on a copy of a slice from a DataFrame.\n",
      "Try using .loc[row_indexer,col_indexer] = value instead\n",
      "\n",
      "See the caveats in the documentation: https://pandas.pydata.org/pandas-docs/stable/user_guide/indexing.html#returning-a-view-versus-a-copy\n",
      "C:\\Users\\mm\\AppData\\Local\\Continuum\\anaconda3\\lib\\site-packages\\ipykernel_launcher.py:141: SettingWithCopyWarning: \n",
      "A value is trying to be set on a copy of a slice from a DataFrame.\n",
      "Try using .loc[row_indexer,col_indexer] = value instead\n",
      "\n",
      "See the caveats in the documentation: https://pandas.pydata.org/pandas-docs/stable/user_guide/indexing.html#returning-a-view-versus-a-copy\n",
      "C:\\Users\\mm\\AppData\\Local\\Continuum\\anaconda3\\lib\\site-packages\\ipykernel_launcher.py:143: SettingWithCopyWarning: \n",
      "A value is trying to be set on a copy of a slice from a DataFrame.\n",
      "Try using .loc[row_indexer,col_indexer] = value instead\n",
      "\n",
      "See the caveats in the documentation: https://pandas.pydata.org/pandas-docs/stable/user_guide/indexing.html#returning-a-view-versus-a-copy\n",
      "C:\\Users\\mm\\AppData\\Local\\Continuum\\anaconda3\\lib\\site-packages\\ipykernel_launcher.py:144: SettingWithCopyWarning: \n",
      "A value is trying to be set on a copy of a slice from a DataFrame.\n",
      "Try using .loc[row_indexer,col_indexer] = value instead\n",
      "\n",
      "See the caveats in the documentation: https://pandas.pydata.org/pandas-docs/stable/user_guide/indexing.html#returning-a-view-versus-a-copy\n",
      "C:\\Users\\mm\\AppData\\Local\\Continuum\\anaconda3\\lib\\site-packages\\ipykernel_launcher.py:145: SettingWithCopyWarning: \n",
      "A value is trying to be set on a copy of a slice from a DataFrame.\n",
      "Try using .loc[row_indexer,col_indexer] = value instead\n",
      "\n",
      "See the caveats in the documentation: https://pandas.pydata.org/pandas-docs/stable/user_guide/indexing.html#returning-a-view-versus-a-copy\n",
      "C:\\Users\\mm\\AppData\\Local\\Continuum\\anaconda3\\lib\\site-packages\\ipykernel_launcher.py:146: SettingWithCopyWarning: \n",
      "A value is trying to be set on a copy of a slice from a DataFrame.\n",
      "Try using .loc[row_indexer,col_indexer] = value instead\n",
      "\n",
      "See the caveats in the documentation: https://pandas.pydata.org/pandas-docs/stable/user_guide/indexing.html#returning-a-view-versus-a-copy\n",
      "C:\\Users\\mm\\AppData\\Local\\Continuum\\anaconda3\\lib\\site-packages\\ipykernel_launcher.py:148: SettingWithCopyWarning: \n",
      "A value is trying to be set on a copy of a slice from a DataFrame.\n",
      "Try using .loc[row_indexer,col_indexer] = value instead\n",
      "\n",
      "See the caveats in the documentation: https://pandas.pydata.org/pandas-docs/stable/user_guide/indexing.html#returning-a-view-versus-a-copy\n",
      "C:\\Users\\mm\\AppData\\Local\\Continuum\\anaconda3\\lib\\site-packages\\ipykernel_launcher.py:149: SettingWithCopyWarning: \n",
      "A value is trying to be set on a copy of a slice from a DataFrame.\n",
      "Try using .loc[row_indexer,col_indexer] = value instead\n",
      "\n",
      "See the caveats in the documentation: https://pandas.pydata.org/pandas-docs/stable/user_guide/indexing.html#returning-a-view-versus-a-copy\n",
      "C:\\Users\\mm\\AppData\\Local\\Continuum\\anaconda3\\lib\\site-packages\\ipykernel_launcher.py:150: SettingWithCopyWarning: \n",
      "A value is trying to be set on a copy of a slice from a DataFrame.\n",
      "Try using .loc[row_indexer,col_indexer] = value instead\n",
      "\n",
      "See the caveats in the documentation: https://pandas.pydata.org/pandas-docs/stable/user_guide/indexing.html#returning-a-view-versus-a-copy\n",
      "C:\\Users\\mm\\AppData\\Local\\Continuum\\anaconda3\\lib\\site-packages\\ipykernel_launcher.py:152: SettingWithCopyWarning: \n",
      "A value is trying to be set on a copy of a slice from a DataFrame.\n",
      "Try using .loc[row_indexer,col_indexer] = value instead\n",
      "\n",
      "See the caveats in the documentation: https://pandas.pydata.org/pandas-docs/stable/user_guide/indexing.html#returning-a-view-versus-a-copy\n",
      "C:\\Users\\mm\\AppData\\Local\\Continuum\\anaconda3\\lib\\site-packages\\ipykernel_launcher.py:153: SettingWithCopyWarning: \n",
      "A value is trying to be set on a copy of a slice from a DataFrame.\n",
      "Try using .loc[row_indexer,col_indexer] = value instead\n",
      "\n",
      "See the caveats in the documentation: https://pandas.pydata.org/pandas-docs/stable/user_guide/indexing.html#returning-a-view-versus-a-copy\n",
      "C:\\Users\\mm\\AppData\\Local\\Continuum\\anaconda3\\lib\\site-packages\\ipykernel_launcher.py:154: SettingWithCopyWarning: \n",
      "A value is trying to be set on a copy of a slice from a DataFrame.\n",
      "Try using .loc[row_indexer,col_indexer] = value instead\n",
      "\n",
      "See the caveats in the documentation: https://pandas.pydata.org/pandas-docs/stable/user_guide/indexing.html#returning-a-view-versus-a-copy\n",
      "C:\\Users\\mm\\AppData\\Local\\Continuum\\anaconda3\\lib\\site-packages\\ipykernel_launcher.py:155: SettingWithCopyWarning: \n",
      "A value is trying to be set on a copy of a slice from a DataFrame.\n",
      "Try using .loc[row_indexer,col_indexer] = value instead\n",
      "\n",
      "See the caveats in the documentation: https://pandas.pydata.org/pandas-docs/stable/user_guide/indexing.html#returning-a-view-versus-a-copy\n"
     ]
    }
   ],
   "source": [
    "# We train one model/classifier for both men and women together while our model/classifier is gender blind\n",
    "# gender blind model refers to a model that does not include gender as an explanatory variable in its decision making processes\n",
    "\n",
    "# Build a dataset for females\n",
    "Approval_Rate_F = Perc_Approval_F    # this value is given by the user\n",
    "Rejection_Rate_F = Perc_Rejected_F   # this value is given by the user\n",
    "Sample_Size_F = Female_Population    # this is given by the user\n",
    "\n",
    "# as the first step, using the user inputs, we build a dataset for female customers\n",
    "X_F, y_F = make_classification(n_classes = 2, weights = [Rejection_Rate_F, Approval_Rate_F], \n",
    "           n_features = 14, n_informative = 8, n_samples = Sample_Size_F, random_state = 1)\n",
    "\n",
    "# As the second step, we are going to inject bias into the female dataset we have constructed above.\n",
    "# First, we need to explain what bias is and how are we going to inject this bias into our dataset.\n",
    "# The make-classification function used earlier, produces the output variable y that is based on its X counterparts.\n",
    "# So, for each record, the specific combination of Xs yields to a y to that is either 1 or 0. \n",
    "# Given this information, now we can explain how we create the bias. \n",
    "    # Bias creation: Those customers that their socio-economic data (Xs) make them to be considered creditworthy receive\n",
    "    # 1 for their y variable. If we take such a record and without changing any of the Xs change y=1 to y=0,\n",
    "    # We have literally created a record that contains prejudice. such prejudice is reffered to as bias in our research. \n",
    "    # This approach is very similar to the mechanism that a credit model/loan officer, rejects a creditworthy customer.\n",
    "    # A customer that has good Xs (creditworthy), but instead of receiving a loan (y=1), gets rejected (y=0).\n",
    "\n",
    "X_F = pd.DataFrame(data = X_F, columns = [\"column1\", \"column2\", \"column3\", \"column4\", \"column5\", \"column6\", \"column7\",\n",
    "                                          \"column8\", \"column9\", \"column10\", \"column11\", \"column12\", \"column13\", \"column14\"])\n",
    "y_F = pd.DataFrame(data = y_F, columns = [\"Grant_Credit\"])\n",
    "\n",
    "df_F = pd.concat([X_F, y_F], axis = 1)\n",
    "\n",
    "# Creating and injecting bias into female dataset \n",
    "df_subset_F = df_F.loc[df_F['Grant_Credit'] == 1]               # selecting all those records that their y is 1\n",
    "df_subset_F = df_subset_F[0:int(df_subset_F.shape[0] * 0.15)]   # we are injecting %15 bias into our female dataset\n",
    "df_subset_F['Grant_Credit'] = 0\n",
    "df = pd.concat([df_subset_F, df_F], axis = 0)\n",
    "X_F = df.loc[:, df.columns != 'Grant_Credit']\n",
    "X_F['Gender'] = 0         # 0 stands for females\n",
    "y_F = pd.DataFrame(data = df, columns = ['Grant_Credit'])\n",
    "df_F2 = pd.concat([X_F, y_F], axis = 1)\n",
    "########################################################\n",
    "########################################################\n",
    "# Build a dataset for males\n",
    "\n",
    "Approval_Rate_M = Perc_Approval_M\n",
    "Rejection_Rate_M = Perc_Rejected_M\n",
    "Sample_Size_M = Male_Population\n",
    "X_M, y_M = make_classification(n_classes = 2, weights = [Rejection_Rate_M, Approval_Rate_M], \n",
    "                    n_features = 14, n_informative = 8, n_samples = Sample_Size_M, random_state = 1)\n",
    "X_M = pd.DataFrame(data = X_M, columns = ['column1', 'column2', 'column3', 'column4', 'column5', 'column6', 'column7',\n",
    "                                         'column8', 'column9', 'column10', 'column11', 'column12', 'column13', 'column14'])\n",
    "X_M['Gender'] = 1 # 1 stands for males\n",
    "y_M = pd.DataFrame(data = y_M, columns = ['Grant_Credit'])\n",
    "df_M2 = pd.concat([X_M, y_M], axis = 1)\n",
    "########################################################\n",
    "########################################################\n",
    "# Concatenating male and femlae datasets and later use them in one model\n",
    "\n",
    "# As you saw in the above lines of codes, we created separate dataset for female and male customers. Unlike male dataset, \n",
    "# female dataset contains injected bias. \n",
    "\n",
    "df_Tot = pd.concat([df_F2, df_M2], axis = 0)    # concatenate male and female datasets together.\n",
    "X = df_Tot.iloc[: , 0:15]                       # we do not include gender into our classification model\n",
    "X = X.to_numpy()\n",
    "y = df_Tot.iloc[: , -1]\n",
    "y = y.to_numpy()\n",
    "########################################################\n",
    "########################################################\n",
    "# Building credit score model - Logistic regression\n",
    "X_train, X_test, y_train, y_test = train_test_split(X, y, test_size = 0.2, random_state = 1)\n",
    "\n",
    "X_test_Gender = X_test[:,14]                     # We do not include gender in classification and our model is gender blind\n",
    "X_test = X_test[:, 0:14]\n",
    "X_train = X_train[:, 0:14]\n",
    "\n",
    "model = LogisticRegression(solver = 'lbfgs')\n",
    "model.fit(X_train, y_train)\n",
    "yhat = (model.predict_proba(X_test))[:, 1]       # keep probabilities for positive outcomes only\n",
    "\n",
    "y_test_DF = pd.DataFrame(data = y_test, columns = ['y_test'])\n",
    "y_hat_DF = pd.DataFrame(data = yhat, columns = ['y_hat'])\n",
    "gender_df = pd.DataFrame(data = X_test_Gender, columns = ['Gender'])    \n",
    "df_Part_I = pd.concat([y_test_DF, y_hat_DF, gender_df], axis = 1) \n",
    "\n",
    "storage = []\n",
    "for i in range(1, 100):\n",
    "    a = list(itertools.repeat(i/100, len(yhat)))\n",
    "    storage.append(a)\n",
    "df_Part_II = pd.DataFrame(storage).T\n",
    "\n",
    "column_names = []\n",
    "for i in range(1,100):\n",
    "    temp_col_name = ('Threshold_' + str(i/100))\n",
    "    column_names.append(temp_col_name)\n",
    "\n",
    "df_Part_II.columns = column_names\n",
    "df_Part_II.head()\n",
    "df_merged_Part_I_II = pd.concat([df_Part_I, df_Part_II], axis = 1)\n",
    "\n",
    "for i in range(1, 100):\n",
    "    comparison_column = np.where(df_merged_Part_I_II[\"y_hat\"] > df_merged_Part_I_II[\"Threshold_\" + str(i/100)], 1, 0)\n",
    "    df_merged_Part_I_II[\"Prediction_at_Threshold_\" + str(i/100)] = comparison_column\n",
    "\n",
    "# The basis of our decision making is the profit of the portfolio that includes both male and female customers.\n",
    "# First we calculate the max profit under each threshold and then choose threshold that gives us maximum profit\n",
    "Expected_Profit = [] \n",
    "Threshold = []\n",
    "\n",
    "for i in range(1, 100):\n",
    "    TP_Temp = (confusion_matrix(df_merged_Part_I_II['y_test'], df_merged_Part_I_II['Prediction_at_Threshold_' + str(i/100)])[1,1])\n",
    "    FP_Temp = (confusion_matrix(df_merged_Part_I_II['y_test'], df_merged_Part_I_II['Prediction_at_Threshold_' + str(i/100)])[0,1])\n",
    "    Expected_Profit.append((Profit * TP_Temp) - (Bad_loan_loss * FP_Temp))  # (Profit * TP) - (Bad_loan_loss * FP) \n",
    "    Threshold.append(i)\n",
    "    \n",
    "Profit_Threshold_df = pd.concat([pd.Series(Expected_Profit), pd.Series(Threshold)], axis = 1)\n",
    "Profit_Threshold_df.columns = ['Expected_Profit', 'Threshold']\n",
    "\n",
    "Maximum_Profit = (Profit_Threshold_df.loc[Profit_Threshold_df['Expected_Profit'] == Profit_Threshold_df.Expected_Profit.max()]).head(1)\n",
    "Optimum_Threshold_for_Profit = float(np.array(Maximum_Profit.Threshold) / 100)   #this is the threshold that gives the yields to maximum portfolio profit\n",
    "df_merged_Part_I_II = df_merged_Part_I_II[['y_test', 'Gender', 'y_hat']]\n",
    "##############################################################################################################\n",
    "# Now that we know the optimum threshold, we can study how fair we are at that threshold towards female customers?\n",
    "df_at_Opt_Thereshold_F = df_merged_Part_I_II.loc[(df_merged_Part_I_II['Gender'] == 0)]\n",
    "df_at_Opt_Thereshold_F['yhat_temp'] = np.where(df_at_Opt_Thereshold_F['y_hat'] > Optimum_Threshold_for_Profit, 1, 0)\n",
    "\n",
    "df_at_Opt_Thereshold_F['TP_F'] = (confusion_matrix(df_at_Opt_Thereshold_F['y_test'], df_at_Opt_Thereshold_F['yhat_temp'])[1,1])\n",
    "df_at_Opt_Thereshold_F['FP_F'] = (confusion_matrix(df_at_Opt_Thereshold_F['y_test'], df_at_Opt_Thereshold_F['yhat_temp'])[0,1])\n",
    "df_at_Opt_Thereshold_F['FN_F'] = (confusion_matrix(df_at_Opt_Thereshold_F['y_test'], df_at_Opt_Thereshold_F['yhat_temp'])[1,0])\n",
    "df_at_Opt_Thereshold_F['TN_F'] = (confusion_matrix(df_at_Opt_Thereshold_F['y_test'], df_at_Opt_Thereshold_F['yhat_temp'])[0,0])\n",
    "\n",
    "df_at_Opt_Thereshold_F['PPV_F'] = df_at_Opt_Thereshold_F['TP_F'] / (df_at_Opt_Thereshold_F['TP_F'] + df_at_Opt_Thereshold_F['FP_F'])\n",
    "df_at_Opt_Thereshold_F['FPR_F'] = df_at_Opt_Thereshold_F['FP_F'] / (df_at_Opt_Thereshold_F['FP_F'] + df_at_Opt_Thereshold_F['TN_F'])\n",
    "df_at_Opt_Thereshold_F['FNR_F'] = df_at_Opt_Thereshold_F['FN_F'] / (df_at_Opt_Thereshold_F['FN_F'] + df_at_Opt_Thereshold_F['TP_F'])\n",
    "\n",
    "df_at_Opt_Thereshold_F['Demographic_Parity_Ratio_F'] = ((df_at_Opt_Thereshold_F['TP_F'] + df_at_Opt_Thereshold_F['FP_F']) / (df_at_Opt_Thereshold_F['TP_F'] + df_at_Opt_Thereshold_F['FP_F'] + df_at_Opt_Thereshold_F['FN_F'] + df_at_Opt_Thereshold_F['TN_F'] + 0.0000001))\n",
    "df_at_Opt_Thereshold_F['Predictive_Parity_Ratio_F'] = (df_at_Opt_Thereshold_F['TP_F'] / (df_at_Opt_Thereshold_F['FP_F'] + df_at_Opt_Thereshold_F['TP_F'] + 0.0000001))\n",
    "df_at_Opt_Thereshold_F['Predictive_Equality_Ratio_F'] = (df_at_Opt_Thereshold_F['FP_F'] / (df_at_Opt_Thereshold_F['TN_F'] + df_at_Opt_Thereshold_F['FP_F'] + 0.0000001))\n",
    "df_at_Opt_Thereshold_F['Equal_Opportunity_Ratio_F'] = (df_at_Opt_Thereshold_F['FN_F'] / (df_at_Opt_Thereshold_F['TP_F'] + df_at_Opt_Thereshold_F['FN_F'] + 0.0000001))\n",
    "df_at_Opt_Thereshold_F = df_at_Opt_Thereshold_F.head(1)\n",
    "####################################################################################################################\n",
    "# Now that we know the optimum threshold, we can study how fair we are at that threshold towards male customers?\n",
    "df_at_Opt_Thereshold_M = df_merged_Part_I_II.loc[(df_merged_Part_I_II['Gender'] == 1)]\n",
    "df_at_Opt_Thereshold_M['yhat_temp'] = np.where(df_at_Opt_Thereshold_M['y_hat'] > Optimum_Threshold_for_Profit, 1, 0)\n",
    "\n",
    "df_at_Opt_Thereshold_M['TP_M'] = (confusion_matrix(df_at_Opt_Thereshold_M['y_test'], df_at_Opt_Thereshold_M['yhat_temp'])[1,1])\n",
    "df_at_Opt_Thereshold_M['FP_M'] = (confusion_matrix(df_at_Opt_Thereshold_M['y_test'], df_at_Opt_Thereshold_M['yhat_temp'])[0,1])\n",
    "df_at_Opt_Thereshold_M['FN_M'] = (confusion_matrix(df_at_Opt_Thereshold_M['y_test'], df_at_Opt_Thereshold_M['yhat_temp'])[1,0])\n",
    "df_at_Opt_Thereshold_M['TN_M'] = (confusion_matrix(df_at_Opt_Thereshold_M['y_test'], df_at_Opt_Thereshold_M['yhat_temp'])[0,0])\n",
    "\n",
    "df_at_Opt_Thereshold_M['PPV_M'] = df_at_Opt_Thereshold_M['TP_M'] / (df_at_Opt_Thereshold_M['TP_M'] + df_at_Opt_Thereshold_M['FP_M'])\n",
    "df_at_Opt_Thereshold_M['FPR_M'] = df_at_Opt_Thereshold_M['FP_M'] / (df_at_Opt_Thereshold_M['FP_M'] + df_at_Opt_Thereshold_M['TN_M'])\n",
    "df_at_Opt_Thereshold_M['FNR_M'] = df_at_Opt_Thereshold_M['FN_M'] / (df_at_Opt_Thereshold_M['FN_M'] + df_at_Opt_Thereshold_M['TP_M'])\n",
    "\n",
    "df_at_Opt_Thereshold_M['Demographic_Parity_Ratio_M'] = ((df_at_Opt_Thereshold_M['TP_M'] + df_at_Opt_Thereshold_M['FP_M']) / (df_at_Opt_Thereshold_M['TP_M'] + df_at_Opt_Thereshold_M['FP_M'] + df_at_Opt_Thereshold_M['FN_M'] + df_at_Opt_Thereshold_M['TN_M'] + 0.0000001))\n",
    "df_at_Opt_Thereshold_M['Predictive_Parity_Ratio_M'] = (df_at_Opt_Thereshold_M['TP_M'] / (df_at_Opt_Thereshold_M['FP_M'] + df_at_Opt_Thereshold_M['TP_M'] + 0.0000001))\n",
    "df_at_Opt_Thereshold_M['Predictive_Equality_Ratio_M'] = (df_at_Opt_Thereshold_M['FP_M'] / (df_at_Opt_Thereshold_M['TN_M'] + df_at_Opt_Thereshold_M['FP_M'] + 0.0000001))\n",
    "df_at_Opt_Thereshold_M['Equal_Opportunity_Ratio_M'] = (df_at_Opt_Thereshold_M['FN_M'] / (df_at_Opt_Thereshold_M['TP_M'] + df_at_Opt_Thereshold_M['FN_M'] + 0.0000001))\n",
    "df_at_Opt_Thereshold_M = df_at_Opt_Thereshold_M.head(1)\n"
   ]
  },
  {
   "cell_type": "code",
   "execution_count": 40,
   "metadata": {},
   "outputs": [],
   "source": [
    "################################# Attention\n",
    "################## Attention\n",
    "##### Attention\n",
    "\n",
    "# @ dear web designer/programmer:\n",
    "# This is step # 4\n",
    "# User sees the following print outputs. "
   ]
  },
  {
   "cell_type": "code",
   "execution_count": 192,
   "metadata": {},
   "outputs": [
    {
     "data": {
      "text/markdown": [
       "## ARE WE FAIR?"
      ],
      "text/plain": [
       "<IPython.core.display.Markdown object>"
      ]
     },
     "metadata": {},
     "output_type": "display_data"
    },
    {
     "data": {
      "text/markdown": [
       "### A. Are we violating predictive parity fairness?"
      ],
      "text/plain": [
       "<IPython.core.display.Markdown object>"
      ]
     },
     "metadata": {},
     "output_type": "display_data"
    },
    {
     "data": {
      "text/markdown": [
       "#### In other words, are we fair in providing loan towards both genders creditworthy applicants?"
      ],
      "text/plain": [
       "<IPython.core.display.Markdown object>"
      ]
     },
     "metadata": {},
     "output_type": "display_data"
    },
    {
     "name": "stdout",
     "output_type": "stream",
     "text": [
      "Our credit score model did not treat both genders equally.\n",
      "\n",
      "Creditworthy male loan applicants have 90.5 chance of receiving loan,\n",
      "while creditworthy female loan applicants have 90.5 chance of receiving loan\n"
     ]
    },
    {
     "data": {
      "text/markdown": [
       "### B. Are we violating predictive equality fairness?"
      ],
      "text/plain": [
       "<IPython.core.display.Markdown object>"
      ]
     },
     "metadata": {},
     "output_type": "display_data"
    },
    {
     "data": {
      "text/markdown": [
       "#### In other words, do we detect females insolvents as good as we detect male insolvents?"
      ],
      "text/plain": [
       "<IPython.core.display.Markdown object>"
      ]
     },
     "metadata": {},
     "output_type": "display_data"
    },
    {
     "name": "stdout",
     "output_type": "stream",
     "text": [
      "Our credit score model did not treat both genders equally.\n",
      "\n",
      "It detectss 14.1 of males insolvents,\n",
      "while it can detect 46.0 of female insolvents.\n"
     ]
    },
    {
     "data": {
      "text/markdown": [
       "### C. Are we violating equal opportunity fairness?"
      ],
      "text/plain": [
       "<IPython.core.display.Markdown object>"
      ]
     },
     "metadata": {},
     "output_type": "display_data"
    },
    {
     "data": {
      "text/markdown": [
       "#### In other words, are we making more mistakes towards creditworthy applicants of one specific gender?"
      ],
      "text/plain": [
       "<IPython.core.display.Markdown object>"
      ]
     },
     "metadata": {},
     "output_type": "display_data"
    },
    {
     "name": "stdout",
     "output_type": "stream",
     "text": [
      "Our credit score model did not treat both genders equally.\n",
      "\n",
      "Mistakenly, it detects 36.4 of true creditworthy male applicants as insolvents,\n",
      "while it makes 35.1 percent mistakes towards true creditworthy female applicants and consider them as insolvents.\n"
     ]
    }
   ],
   "source": [
    "display(Markdown('## ARE WE FAIR?'))\n",
    "display(Markdown('### A. Are we violating predictive parity fairness?'))\n",
    "display(Markdown('#### In other words, are we fair in providing loan towards both genders creditworthy applicants?'))\n",
    "\n",
    "if abs(float(df_at_Opt_Thereshold_M['PPV_M']) - float(df_at_Opt_Thereshold_F['PPV_F'])) > 0.1:\n",
    "    print('Our credit score model did not treat both genders equally.')\n",
    "    print('')\n",
    "    print('Creditworthy male loan applicants have', round(float(np.array(df_at_Opt_Thereshold_M['PPV_M'] * 100)), 1), 'chance of receiving loan,')\n",
    "    print('while creditworthy female loan applicants have', round(float(np.array(df_at_Opt_Thereshold_M['PPV_M'] * 100)), 1), 'chance of receiving loan')\n",
    "   \n",
    "else:\n",
    "    print('The credit score model is not gender biased in giving loan to creditworthy customers')    \n",
    "\n",
    "display(Markdown('### B. Are we violating predictive equality fairness?'))\n",
    "display(Markdown('#### In other words, do we detect females insolvents as good as we detect male insolvents?'))\n",
    "\n",
    "if abs(float(df_at_Opt_Thereshold_M['FPR_M']) - float(df_at_Opt_Thereshold_F['FPR_F'])) > 0.1:\n",
    "    print('Our credit score model did not treat both genders equally.')\n",
    "    print('')\n",
    "    print('It detectss', round(float(np.array(df_at_Opt_Thereshold_M['FPR_M'] * 100)),1), 'of males insolvents,')   \n",
    "    print('while it can detect', round(float(np.array(df_at_Opt_Thereshold_F['FPR_F'] * 100)),1), 'of female insolvents.')\n",
    "else:\n",
    "    print('The credit score model acts fairly in detecting insolvent applicants.')    \n",
    "\n",
    "display(Markdown('### C. Are we violating equal opportunity fairness?'))\n",
    "display(Markdown('#### In other words, are we making more mistakes towards creditworthy applicants of one specific gender?'))\n",
    "\n",
    "if abs(round(float(np.array(df_at_Opt_Thereshold_M['FNR_M'] * 100)),1) - round(float(np.array(df_at_Opt_Thereshold_F['FNR_F'] * 100)),1)) > 0.1:\n",
    "    print('Our credit score model did not treat both genders equally.')\n",
    "    print('')\n",
    "    print('Mistakenly, it detects', round(float(np.array(df_at_Opt_Thereshold_M['FNR_M'] * 100)),1), 'of true creditworthy male applicants as insolvents,')\n",
    "    print('while it makes', round(float(np.array(df_at_Opt_Thereshold_F['FNR_F'] * 100)),1), 'percent mistakes towards true creditworthy female applicants and consider them as insolvents.')\n",
    "else:\n",
    "    print('The credit score model is gender neutral in making mistakes against creditworthy applicants.')    "
   ]
  },
  {
   "cell_type": "code",
   "execution_count": null,
   "metadata": {},
   "outputs": [],
   "source": [
    "################################# Attention\n",
    "################## Attention\n",
    "##### Attention\n",
    "\n",
    "# @ dear web designer/programmer:\n",
    "# Step # 5\n",
    "# The following is a visulization that user sees."
   ]
  },
  {
   "cell_type": "code",
   "execution_count": null,
   "metadata": {},
   "outputs": [],
   "source": []
  },
  {
   "cell_type": "code",
   "execution_count": 193,
   "metadata": {
    "scrolled": false
   },
   "outputs": [
    {
     "data": {
      "text/markdown": [
       "### By setting the threshold to:"
      ],
      "text/plain": [
       "<IPython.core.display.Markdown object>"
      ]
     },
     "metadata": {},
     "output_type": "display_data"
    },
    {
     "data": {
      "text/plain": [
       "66"
      ]
     },
     "metadata": {},
     "output_type": "display_data"
    },
    {
     "data": {
      "text/markdown": [
       "### We can achieve the maximum profit of this credit portfolio which is expected to be:"
      ],
      "text/plain": [
       "<IPython.core.display.Markdown object>"
      ]
     },
     "metadata": {},
     "output_type": "display_data"
    },
    {
     "data": {
      "text/plain": [
       "59700.0"
      ]
     },
     "metadata": {},
     "output_type": "display_data"
    },
    {
     "name": "stdout",
     "output_type": "stream",
     "text": [
      "\n"
     ]
    },
    {
     "data": {
      "text/plain": [
       "<Figure size 648x648 with 0 Axes>"
      ]
     },
     "metadata": {},
     "output_type": "display_data"
    },
    {
     "data": {
      "image/png": "[encoded data removed]",
      "text/plain": [
       "<Figure size 648x648 with 1 Axes>"
      ]
     },
     "metadata": {
      "needs_background": "light"
     },
     "output_type": "display_data"
    }
   ],
   "source": [
    "display(Markdown('### By setting the threshold to:'), xmax)\n",
    "display(Markdown('### We can achieve the maximum profit of this credit portfolio which is expected to be:'), ymax)\n",
    "print('')\n",
    "\n",
    "plot1 = plt.figure(1)\n",
    "plt.rcParams[\"figure.figsize\"] = [9, 9]\n",
    "fig = plt.figure()\n",
    "ax = fig.add_subplot(211)\n",
    "\n",
    "x = Profit_Threshold_df['Threshold'].tolist()\n",
    "y = Profit_Threshold_df['Expected_Profit'].tolist()\n",
    "line, = ax.plot(x, y, color = 'dodgerblue')\n",
    "ymax = max(y)\n",
    "xpos = y.index(ymax)\n",
    "xmax = x[xpos]\n",
    "plt.title('Expected profit at different thresholds - gender blind model', color = 'black', fontsize = 17)\n",
    "plt.xlabel('Threshold', color = 'black', fontsize = 14)\n",
    "plt.ylabel('Expected profit', fontsize = 14)\n",
    "\n",
    "ax.annotate('Max Profit', xy = (xmax, ymax), fontsize = 14, xytext = (xmax, ymax), arrowprops = dict(facecolor = 'red', shrink = 2.55),)\n",
    "\n",
    "fig.subplots_adjust(top=1.4)"
   ]
  },
  {
   "cell_type": "code",
   "execution_count": 47,
   "metadata": {},
   "outputs": [],
   "source": [
    "################################# Attention\n",
    "################## Attention\n",
    "##### Attention\n",
    "\n",
    "# @ dear web designer/programmer:\n",
    "# Step # 6\n",
    "# The following is what the user sees after the above visulization"
   ]
  },
  {
   "cell_type": "code",
   "execution_count": null,
   "metadata": {},
   "outputs": [],
   "source": [
    "# Now, we know weather our classifier has satisfied predictive parity, predictive equality and equal opportunity.\n",
    "# Although detecting bias and unfair decisions is crucial for credit risk practitioners, it is not enough. \n",
    "# The natural response to an unfair decision is to work and make that decision fair. \n",
    "# Therefore, in next lines, we show how we can mitigate these unfair decisions. \n",
    "# There are a wide variety of methods that one can address this problem. \n",
    "# Making data balance and using weighting algorithms, threshold tuning etc. \n",
    "# Since, this toolkit and code is designed for credit risk practitioners rather than Pure data scientist, \n",
    "# we use threshold tuning, because it is more intuitive compare to the other bias mitigation approaches. \n",
    "# A threshold that leads to unfair decisions is also called discriminator threshold."
   ]
  },
  {
   "cell_type": "code",
   "execution_count": 194,
   "metadata": {},
   "outputs": [],
   "source": [
    "df_at_Opt_Thereshold_M = df_merged_Part_I_II.loc[(df_merged_Part_I_II['Gender'] == 1)]\n",
    "\n",
    "yhat_tmp_lst = []\n",
    "TP_M_Lst = []\n",
    "FP_M_Lst = []\n",
    "FN_M_Lst = []\n",
    "TN_M_Lst = []\n",
    "Predictive_Parity_M = []\n",
    "Predictive_Equality_M = []\n",
    "Equal_Opportunity_M = []\n",
    "Demographic_Parity_Ratio_M_lst = []\n",
    "Threshold_Lst = []\n",
    "\n",
    "for i in range(1,100):\n",
    "    Threshold_Lst.append(i)\n",
    "    yhat_temp = np.where(df_at_Opt_Thereshold_M['y_hat'] > (i/100), 1, 0)\n",
    "    yhat_tmp_lst.append(yhat_temp)\n",
    "    TP_M = (confusion_matrix(df_at_Opt_Thereshold_M['y_test'], yhat_temp)[1,1])\n",
    "    TP_M_Lst.append(TP_M)\n",
    "    FP_M = (confusion_matrix(df_at_Opt_Thereshold_M['y_test'], yhat_temp)[0,1])\n",
    "    FP_M_Lst.append(FP_M)\n",
    "    FN_M = (confusion_matrix(df_at_Opt_Thereshold_M['y_test'], yhat_temp)[1,0])\n",
    "    FN_M_Lst.append(FN_M)\n",
    "    TN_M = (confusion_matrix(df_at_Opt_Thereshold_M['y_test'], yhat_temp)[0,0])\n",
    "    TN_M_Lst.append(TN_M)\n",
    "    \n",
    "    PPV_M = TP_M / (TP_M + FP_M + 0.0000001)   # Denominator cannot be 0, therefore we add a very small number, 0.0000001, to avoid this issue\n",
    "    Predictive_Parity_M.append(PPV_M)\n",
    "    \n",
    "    FPR_M = FP_M / (FP_M + TN_M + 0.0000001)\n",
    "    Predictive_Equality_M.append(FPR_M)\n",
    "    \n",
    "    FNR_M = FN_M / (FN_M + TP_M + 0.0000001)\n",
    "    Equal_Opportunity_M.append(FNR_M)\n",
    "     \n",
    "    Demographic_Parity_Ratio_M_0 = ((TP_M + FP_M) / (TP_M + FP_M + FN_M + TN_M + 0.0000001))\n",
    "    Demographic_Parity_Ratio_M_lst.append(Demographic_Parity_Ratio_M_0)\n",
    "\n",
    "Mitigation_df_M = pd.concat([pd.Series(TP_M_Lst), pd.Series(FP_M_Lst), pd.Series(FN_M_Lst), pd.Series(TN_M_Lst), \n",
    "        pd.Series(Predictive_Parity_M), pd.Series(Predictive_Equality_M), pd.Series(Equal_Opportunity_M),\n",
    "        pd.Series(Demographic_Parity_Ratio_M_lst), pd.Series(Threshold_Lst)], axis = 1)\n",
    "Mitigation_df_M.columns = ['TP_M_Lst', 'FP_M_Lst', 'FN_M_Lst', 'TN_M_Lst', 'Predictive_Parity_M', 'Predictive_Equality_M', \n",
    "                           'Equal_Opportunity_M', 'Demographic_Parity_Ratio_M', 'Threshold']\n",
    "\n",
    "#################################################################################################################\n",
    "df_at_Opt_Thereshold_F = df_merged_Part_I_II.loc[(df_merged_Part_I_II['Gender'] == 0)]\n",
    "\n",
    "TP_F_Lst = []\n",
    "FP_F_Lst = []\n",
    "FN_F_Lst = []\n",
    "TN_F_Lst = []\n",
    "Predictive_Parity_F = []\n",
    "Predictive_Equality_F = []\n",
    "Equal_Opportunity_F = []\n",
    "Demographic_Parity_Ratio_F_lst = []\n",
    "\n",
    "for i in range(1,100):\n",
    "    yhat_temp_F = np.where(df_at_Opt_Thereshold_F['y_hat'] > (i/100), 1, 0)\n",
    "    TP_F = (confusion_matrix(df_at_Opt_Thereshold_F['y_test'], yhat_temp_F)[1,1])\n",
    "    TP_F_Lst.append(TP_F)\n",
    "    FP_F = (confusion_matrix(df_at_Opt_Thereshold_F['y_test'], yhat_temp_F)[0,1])\n",
    "    FP_F_Lst.append(FP_F)\n",
    "    FN_F = (confusion_matrix(df_at_Opt_Thereshold_F['y_test'], yhat_temp_F)[1,0])\n",
    "    FN_F_Lst.append(FN_F)\n",
    "    TN_F = (confusion_matrix(df_at_Opt_Thereshold_F['y_test'], yhat_temp_F)[0,0])\n",
    "    TN_F_Lst.append(TN_F)\n",
    "    \n",
    "    PPV_F = TP_F / (TP_F + FP_F + 0.0000001)\n",
    "    Predictive_Parity_F.append(PPV_F)\n",
    "    \n",
    "    FPR_F = FP_F / (FP_F + TN_F + 0.0000001)\n",
    "    Predictive_Equality_F.append(FPR_F)\n",
    "    \n",
    "    FNR_F = FN_F / (FN_F + TP_F + 0.0000001)\n",
    "    Equal_Opportunity_F.append(FNR_F)\n",
    "     \n",
    "    Demographic_Parity_Ratio_F_0 = ((TP_F + FP_F) / (TP_F + FP_F + FN_F + TN_F + 0.0000001))\n",
    "    Demographic_Parity_Ratio_F_lst.append(Demographic_Parity_Ratio_F_0)\n",
    "\n",
    "Mitigation_df_F = pd.concat([pd.Series(TP_F_Lst), pd.Series(FP_F_Lst), pd.Series(FN_F_Lst), pd.Series(TN_F_Lst), \n",
    "        pd.Series(Predictive_Parity_F), pd.Series(Predictive_Equality_F), pd.Series(Equal_Opportunity_F),\n",
    "        pd.Series(Demographic_Parity_Ratio_F_lst)], axis = 1)\n",
    "Mitigation_df_F.columns = ['TP_F_Lst', 'FP_F_Lst', 'FN_F_Lst', 'TN_F_Lst', 'Predictive_Parity_F', 'Predictive_Equality_F', \n",
    "                           'Equal_Opportunity_F', 'Demographic_Parity_Ratio_F']\n",
    "\n",
    "Mitigation_df = pd.concat([Mitigation_df_M, Mitigation_df_F], axis = 1)"
   ]
  },
  {
   "cell_type": "code",
   "execution_count": 197,
   "metadata": {},
   "outputs": [],
   "source": [
    "Mitigation_df['Predictive_Parity_Diff'] = abs(Mitigation_df['Predictive_Parity_M'] - Mitigation_df['Predictive_Parity_F'])\n",
    "Predictive_Parity_Overlap = Mitigation_df.loc[Mitigation_df['Predictive_Parity_Diff'] <= 0.0001]\n",
    "Predictive_Parity_Overlap = pd.Series(Predictive_Parity_Overlap['Threshold'])\n",
    "PP_O = []\n",
    "for i in Predictive_Parity_Overlap:\n",
    "    PP_O.append(i)\n",
    "###################\n",
    "Mitigation_df['Predictive_Equality_Diff'] = abs(Mitigation_df['Predictive_Equality_M'] - Mitigation_df['Predictive_Equality_F'])\n",
    "Predictive_Equality_Overlap = Mitigation_df.loc[Mitigation_df['Predictive_Equality_Diff'] <= 0.0001]\n",
    "Predictive_Equality_Overlap = pd.Series(Predictive_Equality_Overlap['Threshold'])\n",
    "PE_O = []\n",
    "for i in Predictive_Equality_Overlap:\n",
    "    PE_O.append(i)   \n",
    "###################\n",
    "Mitigation_df['Equal_Opportunity_Diff'] = abs(Mitigation_df['Equal_Opportunity_M'] - Mitigation_df['Equal_Opportunity_F'])\n",
    "Equal_Opportunity_Overlap = Mitigation_df.loc[Mitigation_df['Equal_Opportunity_Diff'] <= 0.0001]\n",
    "Equal_Opportunity_Overlap = pd.Series(Equal_Opportunity_Overlap['Threshold'])\n",
    "EO_O = []\n",
    "for i in Equal_Opportunity_Overlap:\n",
    "    EO_O.append(i)   "
   ]
  },
  {
   "cell_type": "code",
   "execution_count": null,
   "metadata": {},
   "outputs": [],
   "source": [
    "################################# Attention\n",
    "################## Attention\n",
    "##### Attention\n",
    "\n",
    "# @ dear web designer/programmer:\n",
    "# Step # 7\n",
    "# The followings are the third visulizations that user sees."
   ]
  },
  {
   "cell_type": "code",
   "execution_count": 196,
   "metadata": {},
   "outputs": [
    {
     "data": {
      "text/markdown": [
       "###  The following plots visualize  how fair we are at each decision threshold."
      ],
      "text/plain": [
       "<IPython.core.display.Markdown object>"
      ]
     },
     "metadata": {},
     "output_type": "display_data"
    },
    {
     "name": "stdout",
     "output_type": "stream",
     "text": [
      "\n"
     ]
    },
    {
     "data": {
      "text/markdown": [
       "##### * The smaller the gap between male and female line plots are, the fairer our credit model is."
      ],
      "text/plain": [
       "<IPython.core.display.Markdown object>"
      ]
     },
     "metadata": {},
     "output_type": "display_data"
    },
    {
     "name": "stdout",
     "output_type": "stream",
     "text": [
      "\n"
     ]
    },
    {
     "data": {
      "text/markdown": [
       "##### * Purple lines on each plot are associated with those thresholds that their relevant fairness notion is satisfied."
      ],
      "text/plain": [
       "<IPython.core.display.Markdown object>"
      ]
     },
     "metadata": {},
     "output_type": "display_data"
    },
    {
     "name": "stdout",
     "output_type": "stream",
     "text": [
      "\n"
     ]
    },
    {
     "data": {
      "text/markdown": [
       "##### * If there is more than one threshold that satisfies fairness, the choice of threshold selection can be"
      ],
      "text/plain": [
       "<IPython.core.display.Markdown object>"
      ]
     },
     "metadata": {},
     "output_type": "display_data"
    },
    {
     "data": {
      "text/markdown": [
       "#####   based on profit at those specific thresholds as well as well as the status of other fairness notions at those specific thresholds."
      ],
      "text/plain": [
       "<IPython.core.display.Markdown object>"
      ]
     },
     "metadata": {},
     "output_type": "display_data"
    },
    {
     "name": "stdout",
     "output_type": "stream",
     "text": [
      "\n"
     ]
    },
    {
     "data": {
      "text/markdown": [
       "##### * If a plot does not have any purple line, it means that threshold adjustment cannot satisfy gender fariness problem."
      ],
      "text/plain": [
       "<IPython.core.display.Markdown object>"
      ]
     },
     "metadata": {},
     "output_type": "display_data"
    },
    {
     "name": "stdout",
     "output_type": "stream",
     "text": [
      "\n"
     ]
    },
    {
     "data": {
      "text/markdown": [
       "### Reminder:"
      ],
      "text/plain": [
       "<IPython.core.display.Markdown object>"
      ]
     },
     "metadata": {},
     "output_type": "display_data"
    },
    {
     "data": {
      "text/markdown": [
       "##### Predictive parity, predictive equality and equal opportunity take values between 0 and 1."
      ],
      "text/plain": [
       "<IPython.core.display.Markdown object>"
      ]
     },
     "metadata": {},
     "output_type": "display_data"
    },
    {
     "data": {
      "text/markdown": [
       "##### Predictive parity is equal to positive predicted value (PPV). Therefore, the higher it is, the better this fairness notion is."
      ],
      "text/plain": [
       "<IPython.core.display.Markdown object>"
      ]
     },
     "metadata": {},
     "output_type": "display_data"
    },
    {
     "data": {
      "text/markdown": [
       "##### Predictive equality is equal to false positive error rate (FPR). Therefore, the lower it is, the better this fairness notion is."
      ],
      "text/plain": [
       "<IPython.core.display.Markdown object>"
      ]
     },
     "metadata": {},
     "output_type": "display_data"
    },
    {
     "data": {
      "text/markdown": [
       "##### Equal opportunity is equal to false negative error rate (FNR). Therefore, the lower it is, the better this fairness notion is."
      ],
      "text/plain": [
       "<IPython.core.display.Markdown object>"
      ]
     },
     "metadata": {},
     "output_type": "display_data"
    },
    {
     "name": "stdout",
     "output_type": "stream",
     "text": [
      "\n",
      "\n",
      "\n",
      "########################################################################\n"
     ]
    },
    {
     "data": {
      "image/png": "[encoded data removed]",
      "text/plain": [
       "<Figure size 648x648 with 1 Axes>"
      ]
     },
     "metadata": {
      "needs_background": "light"
     },
     "output_type": "display_data"
    },
    {
     "data": {
      "image/png": "[encoded data removed]",
      "text/plain": [
       "<Figure size 648x648 with 1 Axes>"
      ]
     },
     "metadata": {
      "needs_background": "light"
     },
     "output_type": "display_data"
    },
    {
     "data": {
      "image/png": "[encoded data removed]",
      "text/plain": [
       "<Figure size 648x648 with 1 Axes>"
      ]
     },
     "metadata": {
      "needs_background": "light"
     },
     "output_type": "display_data"
    }
   ],
   "source": [
    "display(Markdown('###  The following plots visualize  how fair we are at each decision threshold.'))\n",
    "print('')\n",
    "display(Markdown('##### * The smaller the gap between male and female line plots are, the fairer our credit model is.'))\n",
    "print('')\n",
    "display(Markdown('##### * Purple lines on each plot are associated with those thresholds that their relevant fairness notion is satisfied.'))\n",
    "print('')\n",
    "display(Markdown('##### * If there is more than one threshold that satisfies fairness, the choice of threshold selection can be'))\n",
    "display(Markdown('#####   based on profit at those specific thresholds as well as well as the status of other fairness notions at those specific thresholds.'))\n",
    "print('')\n",
    "display(Markdown('##### * If a plot does not have any purple line, it means that threshold adjustment cannot satisfy gender fariness problem.'))\n",
    "print('')\n",
    "display(Markdown('### Reminder:'))\n",
    "display(Markdown('##### Predictive parity, predictive equality and equal opportunity take values between 0 and 1.'))\n",
    "display(Markdown('##### Predictive parity is equal to positive predicted value (PPV). Therefore, the higher it is, the better this fairness notion is.'))\n",
    "display(Markdown('##### Predictive equality is equal to false positive error rate (FPR). Therefore, the lower it is, the better this fairness notion is.'))\n",
    "display(Markdown('##### Equal opportunity is equal to false negative error rate (FNR). Therefore, the lower it is, the better this fairness notion is.'))\n",
    "\n",
    "print('')\n",
    "print('')\n",
    "print('')\n",
    "print('########################################################################')\n",
    "plt.rcParams[\"figure.figsize\"] = [9, 9]\n",
    "\n",
    "plt.subplots(1)\n",
    "sns.lineplot(data = Mitigation_df, x=\"Threshold\", y=\"Predictive_Parity_M\", label = 'Male', color = 'dimgrey', markers=True, lw = 3)\n",
    "sns.lineplot(data=Mitigation_df, x=\"Threshold\", y=\"Predictive_Parity_F\", label = 'Female', color = 'blue', markers=True, lw = 3)\n",
    "plt.xlabel(\"Threshold\", size = 16)\n",
    "plt.ylabel(\"Predictive Parity\", size = 16)\n",
    "\n",
    "# plt.axvline(Mitigation_df['Threshold'].mean(), color = 'purple', label = 'mean', linewidth= 1, ls='--')\n",
    "for i in PP_O:\n",
    "    plt.axvline(i, color = 'purple', linewidth= 1, ls='--')\n",
    "    \n",
    "############################################################\n",
    "plt.subplots(1)\n",
    "plt.rcParams[\"figure.figsize\"] = [9, 9]\n",
    "\n",
    "sns.lineplot(data = Mitigation_df, x=\"Threshold\", y=\"Predictive_Equality_M\", label = 'Male', color = 'dimgrey', markers=True, lw = 3)\n",
    "sns.lineplot(data=Mitigation_df, x=\"Threshold\", y=\"Predictive_Equality_F\", label = 'Female', color = 'blue', markers=True, lw = 3)\n",
    "plt.xlabel(\"Threshold\", size = 16)\n",
    "plt.ylabel(\"Predictive Equality\", size = 16)\n",
    "\n",
    "# plt.axvline(Mitigation_df['Threshold'].mean(), color = 'purple', label = 'mean', linewidth= 1, ls='--')\n",
    "for i in PE_O:\n",
    "    plt.axvline(i, color = 'purple', linewidth= 1, ls='--')\n",
    "############################################################\n",
    "plt.subplots(1)\n",
    "    \n",
    "plt.rcParams[\"figure.figsize\"] = [9, 9]\n",
    "\n",
    "sns.lineplot(data = Mitigation_df, x = \"Threshold\", y = \"Equal_Opportunity_M\", label = 'Male', color = 'dimgrey', markers=True, lw = 3)\n",
    "sns.lineplot(data = Mitigation_df, x = \"Threshold\", y = \"Equal_Opportunity_F\", label = 'Female', color = 'blue', markers=True, lw = 3)\n",
    "plt.xlabel(\"Threshold\", size = 16)\n",
    "plt.ylabel(\"Equal Opportunity\", size = 16)\n",
    "\n",
    "for i in EO_O:\n",
    "    plt.axvline(i, color = 'purple', linewidth= 1, ls='--')\n",
    "    \n",
    "    \n"
   ]
  },
  {
   "cell_type": "markdown",
   "metadata": {},
   "source": [
    "## References:\n",
    "#### * Hardt, M., Price, E., & Srebro, N. (2016). Equality of opportunity in supervised learning. arXiv preprint arXiv:1610.02413.\n",
    "#### * Verma, S., & Rubin, J. (2018, May). Fairness definitions explained. In 2018 ieee/acm international workshop on software fairness (pp. 1-7). IEEE.\n",
    "##### * Martin Wattenberg, Fernanda Viégas, and Moritz Hardt. Attacking discrimination with smarter machine learning. Retrieved from:\n",
    "http://research.google.com/bigpicture/attacking-discrimination-in-ml/\n",
    "\n",
    "##### * Women's World Banking Github page\n",
    "\n",
    "    "
   ]
  },
  {
   "cell_type": "markdown",
   "metadata": {},
   "source": [
    "# The end\n"
   ]
  }
 ],
 "metadata": {
  "kernelspec": {
   "display_name": "Python 3",
   "language": "python",
   "name": "python3"
  },
  "language_info": {
   "codemirror_mode": {
    "name": "ipython",
    "version": 3
   },
   "file_extension": ".py",
   "mimetype": "text/x-python",
   "name": "python",
   "nbconvert_exporter": "python",
   "pygments_lexer": "ipython3",
   "version": "3.7.3"
  }
 },
 "nbformat": 4,
 "nbformat_minor": 2
}
